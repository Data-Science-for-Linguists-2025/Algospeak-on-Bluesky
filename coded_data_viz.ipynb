{
 "cells": [
  {
   "cell_type": "markdown",
   "id": "98642dd7-2877-46d3-ae14-600326f02be2",
   "metadata": {},
   "source": [
    "# Coded Data Viz and Exploration\n",
    "This Jupyter notebook is mainly to look at my data now that it has been qualitatively coded!\n",
    "This is a new, continuing script.\n",
    "\n",
    "## Qualitative Coding\n",
    "Unlike coding with something like Python, qualitative coding here is basically just giving an item a discrete value based on some property. In this project, I am looking at how people use algopseak, so my the codes listed in the mention_code column of my CSV/dataframe are split up into four categories of use. \n",
    "| Code      | Meaning                                                                                                               |\n",
    "|-----------|-----------------------------------------------------------------------------------------------------------------------|\n",
    "| a         | algospeak - The term is being used to censor another term                                                             |\n",
    "| m         | mention - The term is being mentioned as an algospeak term but not used to censor anything. Can also stand for \"meta\" |\n",
    "| n         | not algospeak - The term is not being used as an algospeak term                                                       |\n",
    "| o         | other - Term is not present or something else                                                                         |\n",
    "\n",
    "## Exploration"
   ]
  },
  {
   "cell_type": "code",
   "execution_count": 1,
   "id": "3a9f1f8a-e282-4952-989d-e862361f33d7",
   "metadata": {},
   "outputs": [
    {
     "name": "stdout",
     "output_type": "stream",
     "text": [
      "Pretty printing has been turned OFF\n"
     ]
    }
   ],
   "source": [
    "import pandas as pd\n",
    "import numpy as np\n",
    "import matplotlib.pyplot as plt\n",
    "import seaborn as sns\n",
    "%pprint\n",
    "pd.set_option('display.max_colwidth', None)\n",
    "pd.set_option('display.max_columns', None)"
   ]
  },
  {
   "cell_type": "code",
   "execution_count": 2,
   "id": "bfd11f0b-3c1e-4b4e-828d-00d07b802577",
   "metadata": {
    "scrolled": true
   },
   "outputs": [
    {
     "data": {
      "text/html": [
       "<div>\n",
       "<style scoped>\n",
       "    .dataframe tbody tr th:only-of-type {\n",
       "        vertical-align: middle;\n",
       "    }\n",
       "\n",
       "    .dataframe tbody tr th {\n",
       "        vertical-align: top;\n",
       "    }\n",
       "\n",
       "    .dataframe thead th {\n",
       "        text-align: right;\n",
       "    }\n",
       "</style>\n",
       "<table border=\"1\" class=\"dataframe\">\n",
       "  <thead>\n",
       "    <tr style=\"text-align: right;\">\n",
       "      <th></th>\n",
       "      <th>text</th>\n",
       "      <th>author</th>\n",
       "      <th>display_name</th>\n",
       "      <th>date</th>\n",
       "      <th>likes</th>\n",
       "      <th>quotes</th>\n",
       "      <th>replies</th>\n",
       "      <th>reposts</th>\n",
       "      <th>uri</th>\n",
       "      <th>query</th>\n",
       "      <th>mention_code</th>\n",
       "    </tr>\n",
       "  </thead>\n",
       "  <tbody>\n",
       "    <tr>\n",
       "      <th>121</th>\n",
       "      <td>A farm worker shared this photo with us from an Arizona watermelon field . It's physically demanding work. The loader crew is responsible  for picking pick up hundreds of watermelons and loading them into the trailer. #WeFeedYou</td>\n",
       "      <td>ufw.bsky.social</td>\n",
       "      <td>United Farm Workers</td>\n",
       "      <td>2025-02-21T15:00:35.298Z</td>\n",
       "      <td>567</td>\n",
       "      <td>9</td>\n",
       "      <td>14</td>\n",
       "      <td>114</td>\n",
       "      <td>at://did:plc:53pxyzwrw4zx5ft67czyyjyy/app.bsky.feed.post/3lip32fqf6h2l</td>\n",
       "      <td>watermelon</td>\n",
       "      <td>n</td>\n",
       "    </tr>\n",
       "    <tr>\n",
       "      <th>23</th>\n",
       "      <td>Hulu really played euphoria after Florida project and lady bird. The platforms is tryin to unalive me I swear</td>\n",
       "      <td>oizysdagreat.hunts.monster</td>\n",
       "      <td>👁️⃤ Wandering Puddleજ⁀➴𓏲 ๋࣭ ࣪</td>\n",
       "      <td>2025-02-20T22:48:34.343Z</td>\n",
       "      <td>5</td>\n",
       "      <td>0</td>\n",
       "      <td>3</td>\n",
       "      <td>0</td>\n",
       "      <td>at://did:plc:2yzoqra7ceusstbelvjda4sz/app.bsky.feed.post/3lineqc764s2f</td>\n",
       "      <td>unalive</td>\n",
       "      <td>a</td>\n",
       "    </tr>\n",
       "    <tr>\n",
       "      <th>124</th>\n",
       "      <td>#DailyBat 🖤🦇🖤</td>\n",
       "      <td>afizgig.bsky.social</td>\n",
       "      <td>AlTheColorsOfTheDark🖤🦇🪦</td>\n",
       "      <td>2025-02-23T13:57:15.347Z</td>\n",
       "      <td>62</td>\n",
       "      <td>0</td>\n",
       "      <td>0</td>\n",
       "      <td>6</td>\n",
       "      <td>at://did:plc:sfichlc25a4wuzsqyqauuvq3/app.bsky.feed.post/3litygyic3c2t</td>\n",
       "      <td>watermelon</td>\n",
       "      <td>o</td>\n",
       "    </tr>\n",
       "    <tr>\n",
       "      <th>7</th>\n",
       "      <td>I *AM* on vacation and people still wanna unalive me at work.</td>\n",
       "      <td>kingserpentico.bsky.social</td>\n",
       "      <td>SNAKEMAN</td>\n",
       "      <td>2025-02-20T02:26:55.167Z</td>\n",
       "      <td>61</td>\n",
       "      <td>0</td>\n",
       "      <td>3</td>\n",
       "      <td>1</td>\n",
       "      <td>at://did:plc:pv4626x5y7zxxsupflujztqb/app.bsky.feed.post/3lilahsnslk26</td>\n",
       "      <td>unalive</td>\n",
       "      <td>a</td>\n",
       "    </tr>\n",
       "    <tr>\n",
       "      <th>138</th>\n",
       "      <td>watermelon wip \\n#artist #digitalart #procreate</td>\n",
       "      <td>cryboycries.bsky.social</td>\n",
       "      <td>Cryboycries</td>\n",
       "      <td>2025-02-22T18:05:27.272Z</td>\n",
       "      <td>11</td>\n",
       "      <td>0</td>\n",
       "      <td>0</td>\n",
       "      <td>1</td>\n",
       "      <td>at://did:plc:ao6t7lde3d2cpzpzxo4thciu/app.bsky.feed.post/3lirvtuyofc2x</td>\n",
       "      <td>watermelon</td>\n",
       "      <td>o</td>\n",
       "    </tr>\n",
       "  </tbody>\n",
       "</table>\n",
       "</div>"
      ],
      "text/plain": [
       "                                                                                                                                                                                                                                     text  \\\n",
       "121  A farm worker shared this photo with us from an Arizona watermelon field . It's physically demanding work. The loader crew is responsible  for picking pick up hundreds of watermelons and loading them into the trailer. #WeFeedYou   \n",
       "23                                                                                                                          Hulu really played euphoria after Florida project and lady bird. The platforms is tryin to unalive me I swear   \n",
       "124                                                                                                                                                                                                                         #DailyBat 🖤🦇🖤   \n",
       "7                                                                                                                                                                           I *AM* on vacation and people still wanna unalive me at work.   \n",
       "138                                                                                                                                                                                       watermelon wip \\n#artist #digitalart #procreate   \n",
       "\n",
       "                         author                   display_name  \\\n",
       "121             ufw.bsky.social            United Farm Workers   \n",
       "23   oizysdagreat.hunts.monster  👁️⃤ Wandering Puddleજ⁀➴𓏲 ๋࣭ ࣪   \n",
       "124         afizgig.bsky.social        AlTheColorsOfTheDark🖤🦇🪦   \n",
       "7    kingserpentico.bsky.social                       SNAKEMAN   \n",
       "138     cryboycries.bsky.social                    Cryboycries   \n",
       "\n",
       "                         date  likes  quotes  replies  reposts  \\\n",
       "121  2025-02-21T15:00:35.298Z    567       9       14      114   \n",
       "23   2025-02-20T22:48:34.343Z      5       0        3        0   \n",
       "124  2025-02-23T13:57:15.347Z     62       0        0        6   \n",
       "7    2025-02-20T02:26:55.167Z     61       0        3        1   \n",
       "138  2025-02-22T18:05:27.272Z     11       0        0        1   \n",
       "\n",
       "                                                                        uri  \\\n",
       "121  at://did:plc:53pxyzwrw4zx5ft67czyyjyy/app.bsky.feed.post/3lip32fqf6h2l   \n",
       "23   at://did:plc:2yzoqra7ceusstbelvjda4sz/app.bsky.feed.post/3lineqc764s2f   \n",
       "124  at://did:plc:sfichlc25a4wuzsqyqauuvq3/app.bsky.feed.post/3litygyic3c2t   \n",
       "7    at://did:plc:pv4626x5y7zxxsupflujztqb/app.bsky.feed.post/3lilahsnslk26   \n",
       "138  at://did:plc:ao6t7lde3d2cpzpzxo4thciu/app.bsky.feed.post/3lirvtuyofc2x   \n",
       "\n",
       "          query mention_code  \n",
       "121  watermelon            n  \n",
       "23      unalive            a  \n",
       "124  watermelon            o  \n",
       "7       unalive            a  \n",
       "138  watermelon            o  "
      ]
     },
     "execution_count": 2,
     "metadata": {},
     "output_type": "execute_result"
    }
   ],
   "source": [
    "algo_df = pd.read_csv('algospeak_top_posts.csv')\n",
    "algo_df.sample(5)"
   ]
  },
  {
   "cell_type": "code",
   "execution_count": 3,
   "id": "21b92336-9d44-4a5a-a28c-9e0a00a97dcc",
   "metadata": {},
   "outputs": [
    {
     "data": {
      "text/html": [
       "<div>\n",
       "<style scoped>\n",
       "    .dataframe tbody tr th:only-of-type {\n",
       "        vertical-align: middle;\n",
       "    }\n",
       "\n",
       "    .dataframe tbody tr th {\n",
       "        vertical-align: top;\n",
       "    }\n",
       "\n",
       "    .dataframe thead th {\n",
       "        text-align: right;\n",
       "    }\n",
       "</style>\n",
       "<table border=\"1\" class=\"dataframe\">\n",
       "  <thead>\n",
       "    <tr style=\"text-align: right;\">\n",
       "      <th></th>\n",
       "      <th>text</th>\n",
       "      <th>query</th>\n",
       "      <th>mention_code</th>\n",
       "    </tr>\n",
       "  </thead>\n",
       "  <tbody>\n",
       "    <tr>\n",
       "      <th>139</th>\n",
       "      <td>First off, the watermelon is a racist trope, and secondly you need to have smoke for the Republicans, the ones who are actually in power and destroying America.</td>\n",
       "      <td>watermelon</td>\n",
       "      <td>n</td>\n",
       "    </tr>\n",
       "    <tr>\n",
       "      <th>1</th>\n",
       "      <td>please for the love of god can we NOT normalise using \"sw\" and \"unalive\" on this app? use real words.\\nsex work.\\nkill.\\ncunt.\\n\\nthere's no algorithm here.</td>\n",
       "      <td>unalive</td>\n",
       "      <td>m</td>\n",
       "    </tr>\n",
       "    <tr>\n",
       "      <th>24</th>\n",
       "      <td>pov: your best friend is a writer and offers to symbolically unalive your ex in a future book 😂</td>\n",
       "      <td>unalive</td>\n",
       "      <td>a</td>\n",
       "    </tr>\n",
       "    <tr>\n",
       "      <th>91</th>\n",
       "      <td>Last night tonight\\n\\n“And there were so many fewer questions\\nWhen stars were still just the holes to heaven…”\\n~Jack Johnson (2001)</td>\n",
       "      <td>palm colored</td>\n",
       "      <td>o</td>\n",
       "    </tr>\n",
       "    <tr>\n",
       "      <th>26</th>\n",
       "      <td>We are in for a battle, it would help if Musk and Trump were unalive!</td>\n",
       "      <td>unalive</td>\n",
       "      <td>a</td>\n",
       "    </tr>\n",
       "  </tbody>\n",
       "</table>\n",
       "</div>"
      ],
      "text/plain": [
       "                                                                                                                                                                 text  \\\n",
       "139  First off, the watermelon is a racist trope, and secondly you need to have smoke for the Republicans, the ones who are actually in power and destroying America.   \n",
       "1        please for the love of god can we NOT normalise using \"sw\" and \"unalive\" on this app? use real words.\\nsex work.\\nkill.\\ncunt.\\n\\nthere's no algorithm here.   \n",
       "24                                                                    pov: your best friend is a writer and offers to symbolically unalive your ex in a future book 😂   \n",
       "91                              Last night tonight\\n\\n“And there were so many fewer questions\\nWhen stars were still just the holes to heaven…”\\n~Jack Johnson (2001)   \n",
       "26                                                                                              We are in for a battle, it would help if Musk and Trump were unalive!   \n",
       "\n",
       "            query mention_code  \n",
       "139    watermelon            n  \n",
       "1         unalive            m  \n",
       "24        unalive            a  \n",
       "91   palm colored            o  \n",
       "26        unalive            a  "
      ]
     },
     "execution_count": 3,
     "metadata": {},
     "output_type": "execute_result"
    }
   ],
   "source": [
    "# Here you can see the mention codes with context\n",
    "algo_df[['text','query', 'mention_code']].sample(5)"
   ]
  },
  {
   "cell_type": "code",
   "execution_count": 5,
   "id": "89855729-80ca-4eaa-b8ed-fada314c95b5",
   "metadata": {},
   "outputs": [
    {
     "data": {
      "text/plain": [
       "mention_code\n",
       "a    49\n",
       "n    48\n",
       "o    41\n",
       "m    10\n",
       "Name: count, dtype: int64"
      ]
     },
     "execution_count": 5,
     "metadata": {},
     "output_type": "execute_result"
    }
   ],
   "source": [
    "algo_df.mention_code.value_counts()"
   ]
  },
  {
   "cell_type": "code",
   "execution_count": 12,
   "id": "b2114489-2b8b-43f6-8c91-24d65b21749a",
   "metadata": {},
   "outputs": [
    {
     "data": {
      "image/png": "[encoded data removed]",
      "text/plain": [
       "<Figure size 640x480 with 1 Axes>"
      ]
     },
     "metadata": {},
     "output_type": "display_data"
    }
   ],
   "source": [
    "sns.countplot(x = 'mention_code', hue='mention_code', data = algo_df)\n",
    "plt.show()"
   ]
  },
  {
   "cell_type": "markdown",
   "id": "e89ff949-4b88-4aa7-9649-305b03825378",
   "metadata": {},
   "source": [
    "You can see here that there wasn't a ton of metadiscourse about algopseak in this sample, but there is a lot of stuff that isn't algospeak here"
   ]
  },
  {
   "cell_type": "code",
   "execution_count": 13,
   "id": "7b6ddc28-6a98-44fb-b147-8bdbfc0d9b81",
   "metadata": {},
   "outputs": [
    {
     "data": {
      "text/html": [
       "<div>\n",
       "<style scoped>\n",
       "    .dataframe tbody tr th:only-of-type {\n",
       "        vertical-align: middle;\n",
       "    }\n",
       "\n",
       "    .dataframe tbody tr th {\n",
       "        vertical-align: top;\n",
       "    }\n",
       "\n",
       "    .dataframe thead th {\n",
       "        text-align: right;\n",
       "    }\n",
       "</style>\n",
       "<table border=\"1\" class=\"dataframe\">\n",
       "  <thead>\n",
       "    <tr style=\"text-align: right;\">\n",
       "      <th>mention_code</th>\n",
       "      <th>a</th>\n",
       "      <th>m</th>\n",
       "      <th>n</th>\n",
       "      <th>o</th>\n",
       "    </tr>\n",
       "    <tr>\n",
       "      <th>query</th>\n",
       "      <th></th>\n",
       "      <th></th>\n",
       "      <th></th>\n",
       "      <th></th>\n",
       "    </tr>\n",
       "  </thead>\n",
       "  <tbody>\n",
       "    <tr>\n",
       "      <th>grape</th>\n",
       "      <td>NaN</td>\n",
       "      <td>NaN</td>\n",
       "      <td>27.0</td>\n",
       "      <td>3.0</td>\n",
       "    </tr>\n",
       "    <tr>\n",
       "      <th>palm colored</th>\n",
       "      <td>2.0</td>\n",
       "      <td>1.0</td>\n",
       "      <td>NaN</td>\n",
       "      <td>27.0</td>\n",
       "    </tr>\n",
       "    <tr>\n",
       "      <th>seggs</th>\n",
       "      <td>26.0</td>\n",
       "      <td>1.0</td>\n",
       "      <td>NaN</td>\n",
       "      <td>3.0</td>\n",
       "    </tr>\n",
       "    <tr>\n",
       "      <th>unalive</th>\n",
       "      <td>21.0</td>\n",
       "      <td>8.0</td>\n",
       "      <td>NaN</td>\n",
       "      <td>NaN</td>\n",
       "    </tr>\n",
       "    <tr>\n",
       "      <th>watermelon</th>\n",
       "      <td>NaN</td>\n",
       "      <td>NaN</td>\n",
       "      <td>21.0</td>\n",
       "      <td>8.0</td>\n",
       "    </tr>\n",
       "  </tbody>\n",
       "</table>\n",
       "</div>"
      ],
      "text/plain": [
       "mention_code     a    m     n     o\n",
       "query                              \n",
       "grape          NaN  NaN  27.0   3.0\n",
       "palm colored   2.0  1.0   NaN  27.0\n",
       "seggs         26.0  1.0   NaN   3.0\n",
       "unalive       21.0  8.0   NaN   NaN\n",
       "watermelon     NaN  NaN  21.0   8.0"
      ]
     },
     "execution_count": 13,
     "metadata": {},
     "output_type": "execute_result"
    }
   ],
   "source": [
    "code_by_term = algo_df.groupby('query').mention_code.value_counts().unstack()\n",
    "code_by_term"
   ]
  },
  {
   "cell_type": "code",
   "execution_count": 14,
   "id": "0d84d3bc-ee9d-49c2-9b58-63de31cbb20d",
   "metadata": {},
   "outputs": [
    {
     "data": {
      "text/html": [
       "<div>\n",
       "<style scoped>\n",
       "    .dataframe tbody tr th:only-of-type {\n",
       "        vertical-align: middle;\n",
       "    }\n",
       "\n",
       "    .dataframe tbody tr th {\n",
       "        vertical-align: top;\n",
       "    }\n",
       "\n",
       "    .dataframe thead th {\n",
       "        text-align: right;\n",
       "    }\n",
       "</style>\n",
       "<table border=\"1\" class=\"dataframe\">\n",
       "  <thead>\n",
       "    <tr style=\"text-align: right;\">\n",
       "      <th>mention_code</th>\n",
       "      <th>a</th>\n",
       "      <th>m</th>\n",
       "      <th>n</th>\n",
       "      <th>o</th>\n",
       "    </tr>\n",
       "    <tr>\n",
       "      <th>query</th>\n",
       "      <th></th>\n",
       "      <th></th>\n",
       "      <th></th>\n",
       "      <th></th>\n",
       "    </tr>\n",
       "  </thead>\n",
       "  <tbody>\n",
       "    <tr>\n",
       "      <th>grape</th>\n",
       "      <td>0.0</td>\n",
       "      <td>0.0</td>\n",
       "      <td>27.0</td>\n",
       "      <td>3.0</td>\n",
       "    </tr>\n",
       "    <tr>\n",
       "      <th>palm colored</th>\n",
       "      <td>2.0</td>\n",
       "      <td>1.0</td>\n",
       "      <td>0.0</td>\n",
       "      <td>27.0</td>\n",
       "    </tr>\n",
       "    <tr>\n",
       "      <th>seggs</th>\n",
       "      <td>26.0</td>\n",
       "      <td>1.0</td>\n",
       "      <td>0.0</td>\n",
       "      <td>3.0</td>\n",
       "    </tr>\n",
       "    <tr>\n",
       "      <th>unalive</th>\n",
       "      <td>21.0</td>\n",
       "      <td>8.0</td>\n",
       "      <td>0.0</td>\n",
       "      <td>0.0</td>\n",
       "    </tr>\n",
       "    <tr>\n",
       "      <th>watermelon</th>\n",
       "      <td>0.0</td>\n",
       "      <td>0.0</td>\n",
       "      <td>21.0</td>\n",
       "      <td>8.0</td>\n",
       "    </tr>\n",
       "  </tbody>\n",
       "</table>\n",
       "</div>"
      ],
      "text/plain": [
       "mention_code     a    m     n     o\n",
       "query                              \n",
       "grape          0.0  0.0  27.0   3.0\n",
       "palm colored   2.0  1.0   0.0  27.0\n",
       "seggs         26.0  1.0   0.0   3.0\n",
       "unalive       21.0  8.0   0.0   0.0\n",
       "watermelon     0.0  0.0  21.0   8.0"
      ]
     },
     "execution_count": 14,
     "metadata": {},
     "output_type": "execute_result"
    }
   ],
   "source": [
    "code_by_term = code_by_term.fillna(0)\n",
    "code_by_term"
   ]
  },
  {
   "cell_type": "code",
   "execution_count": 25,
   "id": "e89b5a63-77e3-460b-960a-59ccd058a356",
   "metadata": {},
   "outputs": [
    {
     "data": {
      "image/png": "[encoded data removed]",
      "text/plain": [
       "<Figure size 640x480 with 1 Axes>"
      ]
     },
     "metadata": {},
     "output_type": "display_data"
    }
   ],
   "source": [
    "ax = code_by_term.plot(kind='bar', stacked=True)\n",
    "sns.move_legend(ax, \"upper left\", bbox_to_anchor=(1, 1))"
   ]
  },
  {
   "cell_type": "markdown",
   "id": "cad1a268-f8da-4f0d-ab37-5349a9af7312",
   "metadata": {},
   "source": [
    "There's a big difference between the terms! There are no algospeak uses for grape or watermelon here, and only a couple for palm-colored. Unalive is really the only term that is unambiguously algospeak in this small dataset."
   ]
  },
  {
   "cell_type": "code",
   "execution_count": null,
   "id": "9747468c-dc54-4598-a216-0abfd1b289af",
   "metadata": {},
   "outputs": [],
   "source": []
  }
 ],
 "metadata": {
  "kernelspec": {
   "display_name": "Python 3 (ipykernel)",
   "language": "python",
   "name": "python3"
  },
  "language_info": {
   "codemirror_mode": {
    "name": "ipython",
    "version": 3
   },
   "file_extension": ".py",
   "mimetype": "text/x-python",
   "name": "python",
   "nbconvert_exporter": "python",
   "pygments_lexer": "ipython3",
   "version": "3.11.3"
  }
 },
 "nbformat": 4,
 "nbformat_minor": 5
}
