{
 "cells": [
  {
   "cell_type": "markdown",
   "id": "fd2626ac-12ae-4995-a65c-93295549ee80",
   "metadata": {},
   "source": [
    "# Getting Bsky Data\n",
    "Sara Rosenau 2/21/2025  \n",
    "This notebook will feature me trying to learn the Bsky API and collect some data from it"
   ]
  },
  {
   "cell_type": "markdown",
   "id": "26747c78-100a-423c-a318-a522807209f6",
   "metadata": {},
   "source": [
    "## Playing around with the api a bit\n",
    "- First, import the api (`atproto`) and start a new client session"
   ]
  },
  {
   "cell_type": "code",
   "execution_count": 1,
   "id": "64637d7c-9dd4-4eb2-aaa8-aa1a2b35c342",
   "metadata": {},
   "outputs": [],
   "source": [
    "from atproto import Client, client_utils"
   ]
  },
  {
   "cell_type": "code",
   "execution_count": 3,
   "id": "ab1b8ffd-658d-4ff5-b56e-07fb6dd3da62",
   "metadata": {},
   "outputs": [
    {
     "data": {
      "text/plain": [
       "ProfileViewDetailed(did='did:plc:66lizgbz577cdzpwnfyox3g6', handle='sararosenauling.bsky.social', associated=ProfileAssociated(chat=None, feedgens=0, labeler=False, lists=0, starter_packs=0, py_type='app.bsky.actor.defs#profileAssociated'), avatar='https://cdn.bsky.app/img/avatar/plain/did:plc:66lizgbz577cdzpwnfyox3g6/bafkreicddmiczeju5vfi5yxgp2oosshkakweumupixgkofwwkq6jp3nqiq@jpeg', banner='https://cdn.bsky.app/img/banner/plain/did:plc:66lizgbz577cdzpwnfyox3g6/bafkreih3qtqbp27r3sq6jskcn4wmb7oxmbbbt6p3lcmhd5zbqi6ww5k5pm@jpeg', created_at='2023-06-25T12:38:14.621Z', description='she/her - Sociolinguist studying the internet at Pitt! Also into kpop/kdrama, musicals, the Phillies, cross stiching and crocheting, and singing in general\\n', display_name='Sara Rosenau', followers_count=893, follows_count=1051, indexed_at='2024-11-11T20:50:23.741Z', joined_via_starter_pack=None, labels=[], pinned_post=None, posts_count=297, viewer=ViewerState(blocked_by=False, blocking=None, blocking_by_list=None, followed_by=None, following=None, known_followers=KnownFollowers(count=472, followers=[ProfileViewBasic(did='did:plc:ffkgesg3jsv2j7aagkzrtcvt', handle='daryllmarie.bsky.social', associated=ProfileAssociated(chat=ProfileAssociatedChat(allow_incoming='all', py_type='app.bsky.actor.defs#profileAssociatedChat'), feedgens=None, labeler=None, lists=None, starter_packs=None, py_type='app.bsky.actor.defs#profileAssociated'), avatar='https://cdn.bsky.app/img/avatar/plain/did:plc:ffkgesg3jsv2j7aagkzrtcvt/bafkreih5ntx3upjnktqgq5vxswi3kzc3qcv53cdwzjrf5vss7mwdrwodzq@jpeg', created_at='2023-07-03T05:23:29.434Z', display_name='Daryll Marie', labels=[], viewer=ViewerState(blocked_by=False, blocking=None, blocking_by_list=None, followed_by='at://did:plc:ffkgesg3jsv2j7aagkzrtcvt/app.bsky.graph.follow/3jzpwkjokxn2v', following='at://did:plc:66lizgbz577cdzpwnfyox3g6/app.bsky.graph.follow/3jzpwa5a4bi2t', known_followers=None, muted=False, muted_by_list=None, py_type='app.bsky.actor.defs#viewerState'), py_type='app.bsky.actor.defs#profileViewBasic'), ProfileViewBasic(did='did:plc:nywb5oene54cllowkfwouxzz', handle='chadloder.bsky.social', associated=ProfileAssociated(chat=ProfileAssociatedChat(allow_incoming='following', py_type='app.bsky.actor.defs#profileAssociatedChat'), feedgens=None, labeler=None, lists=None, starter_packs=None, py_type='app.bsky.actor.defs#profileAssociated'), avatar='https://cdn.bsky.app/img/avatar/plain/did:plc:nywb5oene54cllowkfwouxzz/bafkreig7guswzeh6wzfgv6jytel6km5whh4l2vmlefscmm4l4dgcuvamvy@jpeg', created_at='2023-04-30T18:10:33.161Z', display_name='Chad Loder', labels=[Label(cts='1970-01-01T00:00:00.000Z', src='did:plc:nywb5oene54cllowkfwouxzz', uri='at://did:plc:nywb5oene54cllowkfwouxzz/app.bsky.actor.profile/self', val='!no-unauthenticated', cid='bafyreiearoqwhvpvun4hz74klaysmuvarntdmnnql4d2ltl26fti4dof7e', exp=None, neg=None, sig=None, ver=None, py_type='com.atproto.label.defs#label')], viewer=ViewerState(blocked_by=False, blocking=None, blocking_by_list=None, followed_by='at://did:plc:nywb5oene54cllowkfwouxzz/app.bsky.graph.follow/3k2md3m2tqr2r', following='at://did:plc:66lizgbz577cdzpwnfyox3g6/app.bsky.graph.follow/3k2m64dl44k2c', known_followers=None, muted=False, muted_by_list=None, py_type='app.bsky.actor.defs#viewerState'), py_type='app.bsky.actor.defs#profileViewBasic'), ProfileViewBasic(did='did:plc:qrllvid7s54k4hnwtqxwetrf', handle='joshuajfriedman.com', associated=ProfileAssociated(chat=ProfileAssociatedChat(allow_incoming='following', py_type='app.bsky.actor.defs#profileAssociatedChat'), feedgens=None, labeler=None, lists=None, starter_packs=None, py_type='app.bsky.actor.defs#profileAssociated'), avatar='https://cdn.bsky.app/img/avatar/plain/did:plc:qrllvid7s54k4hnwtqxwetrf/bafkreihknkschqffbspk4lk7qtf2y2bgx36sirxw3ygztyqe3te2vlhjla@jpeg', created_at='2023-04-27T14:31:59.735Z', display_name='Joshua J. Friedman', labels=[], viewer=ViewerState(blocked_by=False, blocking=None, blocking_by_list=None, followed_by='at://did:plc:qrllvid7s54k4hnwtqxwetrf/app.bsky.graph.follow/3k3cwub2rkp24', following='at://did:plc:66lizgbz577cdzpwnfyox3g6/app.bsky.graph.follow/3k3cxsrkcgr2m', known_followers=None, muted=False, muted_by_list=None, py_type='app.bsky.actor.defs#viewerState'), py_type='app.bsky.actor.defs#profileViewBasic'), ProfileViewBasic(did='did:plc:446yb4jagtale66qgmgb2dwd', handle='hadaskotek.bsky.social', associated=ProfileAssociated(chat=ProfileAssociatedChat(allow_incoming='following', py_type='app.bsky.actor.defs#profileAssociatedChat'), feedgens=None, labeler=None, lists=None, starter_packs=None, py_type='app.bsky.actor.defs#profileAssociated'), avatar='https://cdn.bsky.app/img/avatar/plain/did:plc:446yb4jagtale66qgmgb2dwd/bafkreig6fum6ehln4hftckmpltuadasajci2cuk25pufk53qorkhrdjrle@jpeg', created_at='2023-07-03T18:39:01.855Z', display_name='Hadas Kotek 🦄', labels=[Label(cts='1970-01-01T00:00:00.000Z', src='did:plc:446yb4jagtale66qgmgb2dwd', uri='at://did:plc:446yb4jagtale66qgmgb2dwd/app.bsky.actor.profile/self', val='!no-unauthenticated', cid='bafyreih7vhzik75esfc75on2n7jsovhua7xrxwhy44rlgsacpspewmwe4m', exp=None, neg=None, sig=None, ver=None, py_type='com.atproto.label.defs#label')], viewer=ViewerState(blocked_by=False, blocking=None, blocking_by_list=None, followed_by='at://did:plc:446yb4jagtale66qgmgb2dwd/app.bsky.graph.follow/3jzna2cpcym2m', following='at://did:plc:66lizgbz577cdzpwnfyox3g6/app.bsky.graph.follow/3jznchknrf32o', known_followers=None, muted=False, muted_by_list=None, py_type='app.bsky.actor.defs#viewerState'), py_type='app.bsky.actor.defs#profileViewBasic'), ProfileViewBasic(did='did:plc:gpzumzyrdogumlixcztwtaxq', handle='mattweiner19.bsky.social', associated=ProfileAssociated(chat=ProfileAssociatedChat(allow_incoming='following', py_type='app.bsky.actor.defs#profileAssociatedChat'), feedgens=None, labeler=None, lists=None, starter_packs=None, py_type='app.bsky.actor.defs#profileAssociated'), avatar='https://cdn.bsky.app/img/avatar/plain/did:plc:gpzumzyrdogumlixcztwtaxq/bafkreiemdclxdukunkassjixwjjkvr5xlztlr74vihvgveb35kkpwhe4om@jpeg', created_at='2023-06-22T02:09:56.873Z', display_name='Matt Weiner', labels=[], viewer=ViewerState(blocked_by=False, blocking=None, blocking_by_list=None, followed_by='at://did:plc:gpzumzyrdogumlixcztwtaxq/app.bsky.graph.follow/3kdzxskgbtc2m', following='at://did:plc:66lizgbz577cdzpwnfyox3g6/app.bsky.graph.follow/3kdzxpy5kr22n', known_followers=None, muted=False, muted_by_list=None, py_type='app.bsky.actor.defs#viewerState'), py_type='app.bsky.actor.defs#profileViewBasic')], py_type='app.bsky.actor.defs#knownFollowers'), muted=False, muted_by_list=None, py_type='app.bsky.actor.defs#viewerState'), py_type='app.bsky.actor.defs#profileViewDetailed')"
      ]
     },
     "execution_count": 3,
     "metadata": {},
     "output_type": "execute_result"
    }
   ],
   "source": [
    "client = Client()\n",
    "client.login('sararosenauling.bsky.social', 'fjx5-6tuy-oks4-igsn')"
   ]
  },
  {
   "cell_type": "markdown",
   "id": "51879782-555d-40a7-9f6f-747c14c0f2f1",
   "metadata": {},
   "source": [
    "### Making a post from the api!"
   ]
  },
  {
   "cell_type": "code",
   "execution_count": 5,
   "id": "4b54deb4-8919-4d05-8d85-ebec317a550f",
   "metadata": {},
   "outputs": [
    {
     "data": {
      "text/plain": [
       "CreateRecordResponse(uri='at://did:plc:66lizgbz577cdzpwnfyox3g6/app.bsky.feed.post/3lipnaaejya2u', cid='bafyreidr4z47xkshfa4ej2ychc2oskymyvkz6zlzgi6ielbhzdip75ff2a')"
      ]
     },
     "execution_count": 5,
     "metadata": {},
     "output_type": "execute_result"
    }
   ],
   "source": [
    "#client.send_post(text='testing api')"
   ]
  },
  {
   "cell_type": "markdown",
   "id": "221c43c0-5404-44f4-8410-7702a47a03ca",
   "metadata": {},
   "source": [
    "### Getting posts from my timeline\n",
    "- Following [this example](https://github.com/MarshalX/atproto/blob/main/examples/home_timeline.py)\n",
    "- Getting 10 posts from my following feed"
   ]
  },
  {
   "cell_type": "code",
   "execution_count": 8,
   "id": "000bbeea-9079-4282-b309-8cbee0732b70",
   "metadata": {},
   "outputs": [],
   "source": [
    "def main() -> None:\n",
    "    print('Home (Following):\\n')\n",
    "\n",
    "    timeline = client.get_timeline(limit=10, algorithm='reverse-chronological')\n",
    "    for feed_view in timeline.feed:\n",
    "        action = 'New Post'\n",
    "        if feed_view.reason:\n",
    "            action_by = feed_view.reason.by.handle\n",
    "            action = f'Reposted by @{action_by}'\n",
    "\n",
    "        post = feed_view.post.record\n",
    "        author = feed_view.post.author\n",
    "\n",
    "        print(f'[{action}] {author.display_name}: {post.text}')"
   ]
  },
  {
   "cell_type": "code",
   "execution_count": 9,
   "id": "a582905f-d5b6-49dc-b381-7e47a38490c8",
   "metadata": {},
   "outputs": [
    {
     "name": "stdout",
     "output_type": "stream",
     "text": [
      "Home (Following):\n",
      "\n",
      "[New Post] Dr. Sarah Parcak : They are not your target. Trust me. I know you are angry. Call your congresspeople. Screaming here doesn't do a damn thing.\n",
      "[New Post] jenny_tightpants🪑: free him\n",
      "[Reposted by @logophobe.bsky.social] Inclusive Diversity Pronouns at the Woke NSA: Every liberal \"paper of record\": maybe the fascists have a point \n",
      "Eater: Know your rights\n",
      "[Reposted by @prisonculture.bsky.social] Inclusive Diversity Pronouns at the Woke NSA: Every liberal \"paper of record\": maybe the fascists have a point \n",
      "Eater: Know your rights\n",
      "[Reposted by @swordsjew.bsky.social] CJ Ciaramella: I am obligated to note that the Fort Bliss camp already exists and was used by the Biden admin to hold migrant children and teenagers. In 2021 I got whistleblower recordings of officials discussing filthy conditions and lack of medical care: reason.com/2021/05/24/s...\n",
      "[Reposted by @prisonculture.bsky.social] People's Book: That's right! Come on by for Fed Fridays - have a cup of joe on us. We'll get through this. You can sign up for our newsletter chock full of other free events and goings-on at peoplesbooktakoma.com\n",
      "[New Post] Nick Seaver: \"The conversation is characterized by Nick's use of language, but the content of the discussion remains unknown.\"\n",
      "[New Post] PISS_SHITTER: sometimes you scratch a liberal and a tankie bleeds\n",
      "[New Post] Chise: Agreed.\n",
      "[New Post] Nick Seaver: accidentally left my zoom room running in the background while I was working, and the AI assistant decided to give me a summary in Malay?\n"
     ]
    }
   ],
   "source": [
    "main()"
   ]
  },
  {
   "cell_type": "code",
   "execution_count": null,
   "id": "7a849422-0249-48ee-b22d-bbc506a3c682",
   "metadata": {},
   "outputs": [],
   "source": []
  }
 ],
 "metadata": {
  "kernelspec": {
   "display_name": "Python 3 (ipykernel)",
   "language": "python",
   "name": "python3"
  },
  "language_info": {
   "codemirror_mode": {
    "name": "ipython",
    "version": 3
   },
   "file_extension": ".py",
   "mimetype": "text/x-python",
   "name": "python",
   "nbconvert_exporter": "python",
   "pygments_lexer": "ipython3",
   "version": "3.11.3"
  }
 },
 "nbformat": 4,
 "nbformat_minor": 5
}
