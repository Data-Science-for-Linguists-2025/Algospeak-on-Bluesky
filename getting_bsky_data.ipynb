{
 "cells": [
  {
   "cell_type": "markdown",
   "id": "fd2626ac-12ae-4995-a65c-93295549ee80",
   "metadata": {},
   "source": [
    "# Getting Bsky Data\n",
    "Sara Rosenau 2/21/2025  \n",
    "This notebook will feature me trying to learn the Bsky API and collect some data from it"
   ]
  },
  {
   "cell_type": "markdown",
   "id": "26747c78-100a-423c-a318-a522807209f6",
   "metadata": {},
   "source": [
    "## Playing around with the api a bit\n",
    "- First, import the api (`atproto`) and start a new client session"
   ]
  },
  {
   "cell_type": "code",
   "execution_count": 1,
   "id": "64637d7c-9dd4-4eb2-aaa8-aa1a2b35c342",
   "metadata": {},
   "outputs": [],
   "source": [
    "from atproto import Client, client_utils"
   ]
  },
  {
   "cell_type": "code",
   "execution_count": 10,
   "id": "5dbc0fa2-8996-4e2e-9844-cfab8b4fb45a",
   "metadata": {},
   "outputs": [],
   "source": [
    "fname = r'private\\pw.txt'\n",
    "file = open(fname, 'r')\n",
    "pw = file.read()\n",
    "file.close()"
   ]
  },
  {
   "cell_type": "code",
   "execution_count": null,
   "id": "ab1b8ffd-658d-4ff5-b56e-07fb6dd3da62",
   "metadata": {},
   "outputs": [],
   "source": [
    "client = Client()\n",
    "client.login('sararosenauling.bsky.social', pw)"
   ]
  },
  {
   "cell_type": "markdown",
   "id": "51879782-555d-40a7-9f6f-747c14c0f2f1",
   "metadata": {},
   "source": [
    "### Making a post from the api!"
   ]
  },
  {
   "cell_type": "code",
   "execution_count": 4,
   "id": "4b54deb4-8919-4d05-8d85-ebec317a550f",
   "metadata": {},
   "outputs": [],
   "source": [
    "#client.send_post(text='testing api')"
   ]
  },
  {
   "cell_type": "markdown",
   "id": "221c43c0-5404-44f4-8410-7702a47a03ca",
   "metadata": {},
   "source": [
    "### Getting posts from my timeline\n",
    "- Following [this example](https://github.com/MarshalX/atproto/blob/main/examples/home_timeline.py)\n",
    "- Getting 10 posts from my following feed"
   ]
  },
  {
   "cell_type": "code",
   "execution_count": 5,
   "id": "000bbeea-9079-4282-b309-8cbee0732b70",
   "metadata": {},
   "outputs": [],
   "source": [
    "def main() -> None:\n",
    "    print('Home (Following):\\n')\n",
    "\n",
    "    timeline = client.get_timeline(limit=10, algorithm='reverse-chronological')\n",
    "    for feed_view in timeline.feed:\n",
    "        action = 'New Post'\n",
    "        if feed_view.reason:\n",
    "            action_by = feed_view.reason.by.handle\n",
    "            action = f'Reposted by @{action_by}'\n",
    "\n",
    "        post = feed_view.post.record\n",
    "        author = feed_view.post.author\n",
    "\n",
    "        print(f'[{action}] {author.display_name}: {post.text}')"
   ]
  },
  {
   "cell_type": "code",
   "execution_count": 6,
   "id": "a582905f-d5b6-49dc-b381-7e47a38490c8",
   "metadata": {},
   "outputs": [
    {
     "name": "stdout",
     "output_type": "stream",
     "text": [
      "Home (Following):\n",
      "\n",
      "[New Post] Joshua J. Friedman: What’s your source for this? cc: @mollyknight.bsky.social\n",
      "[New Post] Quinn Dombrowski: Today is the 3rd anniversary of the full-scale invasion, but also the 1st anniversary of the day my now-girlfriend messaged me back, setting off a chain of events that became two scarves, and an opportunity to make a real and different choice about what I wanted my life to be like.\n",
      "[New Post] The Guillotine Shouter: Not to get political but where the fuck did I put my sunglasses\n",
      "[Reposted by @banalplay.bsky.social] Jay Willis: Odd how the same companies asserting strong First Amendment rights in the election spending context have very little to say when the government threatens them with criminal charges over milquetoast corporate diversity initiatives ballsandstrikes.org/law-politics...\n",
      "[New Post] Katie Tightpussy, Editor-In-Chief: unassisted. words\n",
      "[New Post] Nina Markl 🏳️‍⚧️🏳️‍🌈: some of them! not all of them i assume?\n",
      "[New Post] Scoob: That's a pretty damn good album forreal\n",
      "[New Post] Katie Tightpussy, Editor-In-Chief: banger\n",
      "[New Post] Molly Knight: !!!!!\n",
      "\n",
      "Terence I’m not gonna lie I freaked out a little when they said “uh nitrate is highly flammable so if it explodes here are the fire exits” so soon after the fires. 😬\n",
      "[Reposted by @katie.bzky.team] 𐌶𐍉𐌴: most cucked Star Wars character?\n",
      "NTR2-D2\n"
     ]
    }
   ],
   "source": [
    "main()"
   ]
  },
  {
   "cell_type": "markdown",
   "id": "5d02545c-c3b0-416c-a449-8e947dde468f",
   "metadata": {},
   "source": [
    "### Trying a search\n",
    "- just trying to get a hang of what is going on with the `client.app.bsky.feed.search_posts()`\n",
    "  - turns out that it returns a Response type object and the api is built on something called \"pydantic\"\n",
    "  - `object.model_dump()` returns a dictionary with a list of posts and then a dictionary for each post containing a lot of metadata\n",
    "  - with a for loop and some indexing we can get all the info we need!"
   ]
  },
  {
   "cell_type": "code",
   "execution_count": 44,
   "id": "522fcde1-16e9-4748-8a3d-9ce564f8224d",
   "metadata": {},
   "outputs": [],
   "source": [
    "import requests"
   ]
  },
  {
   "cell_type": "code",
   "execution_count": 11,
   "id": "8bb35508-a866-4944-9e4c-e42b40e8efd7",
   "metadata": {},
   "outputs": [],
   "source": [
    "def print_search(query):\n",
    "    print(query, 'Search Results:\\n')\n",
    "    results = client.app.bsky.feed.search_posts({'q': query, 'limit': 10, 'sort': 'top'})\n",
    "    results_dict = results.model_dump()\n",
    "    for post in results_dict['posts']:\n",
    "        text = post['record']['text']\n",
    "        author = post['author']['handle']\n",
    "        print(author+':', text+'\\n')"
   ]
  },
  {
   "cell_type": "code",
   "execution_count": 12,
   "id": "3157d23b-28f6-4ee3-af5c-2332c1ed90b1",
   "metadata": {},
   "outputs": [
    {
     "name": "stdout",
     "output_type": "stream",
     "text": [
      "unalive Search Results:\n",
      "\n",
      "maiamindel.bsky.social: \"Orange Man Bad\" and \"Unalive the Boer\" are universal truths that all living beings are innately attuned to. Like a message from the Creator\n",
      "\n",
      "baratiddys.bsky.social: postponing my unalive\n",
      "\n",
      "kingserpentico.bsky.social: I *AM* on vacation and people still wanna unalive me at work.\n",
      "\n",
      "aliothfox.ursamajorartworks.com: Y'all, please stop saying \"unalive\" and \"self-delete\" and so forth. There's no algorithm to fight here and a lot of people have the word \"suicide\" muted for a reason. The euphemisms are neither cute nor helpful.\n",
      "\n",
      "vitaminpac1.bsky.social: Why did I marry someone who picks the WORST FUCKING MOVIES\n",
      "\n",
      "My god I either want to die of boredom, want to unalive myself, or am too confused to decide\n",
      "\n",
      "nacl.sh: unalive journal\n",
      "\n",
      "usakoing.bsky.social: Chat if I unalive myself\n",
      "\n",
      "verynormalguy.bsky.social: wait, people actually say unalive? we’re all so cooked\n",
      "\n",
      "sixfootfiveguy.com: An app for physician-assisted unalive: \n",
      "\n",
      "Snuffies\n",
      "\n",
      "killjill.itch.io: I watched something and it used the word 'unalive' which made me so mad that I was shaken back to lucidity\n",
      "\n"
     ]
    }
   ],
   "source": [
    "print_search('unalive')"
   ]
  },
  {
   "cell_type": "markdown",
   "id": "30b0599c-a74b-44bb-9ae2-f4e1a707f2ae",
   "metadata": {},
   "source": [
    "## Getting some actual data\n",
    "- Building a function called `search2df()` that is pretty similar to the `print_search()` function above\n",
    "    - makes a list of dictionaries for each post containing the metadata I might want for each search term\n",
    "    - then converts it into a pandas DataFrame!"
   ]
  },
  {
   "cell_type": "code",
   "execution_count": 51,
   "id": "ce875306-1c91-4f27-a23b-3fd897b4b026",
   "metadata": {},
   "outputs": [],
   "source": [
    "import pandas as pd\n",
    "def search2df(query):\n",
    "    results = client.app.bsky.feed.search_posts({'q': query, 'limit': 10, 'sort': 'top'})\n",
    "    results_dict = results.model_dump()\n",
    "    query_data = []\n",
    "    for post in results_dict['posts']:\n",
    "        metadata = {}\n",
    "        metadata['text'] = post['record']['text']\n",
    "        metadata['author'] = post['author']['handle']\n",
    "        metadata['display_name'] = post['author']['display_name']\n",
    "        metadata['date'] = post['record']['created_at']\n",
    "        metadata['likes'] = post['like_count']\n",
    "        metadata['quotes'] = post['quote_count']\n",
    "        metadata['replies'] = post['reply_count']\n",
    "        metadata['reposts'] = post['repost_count']\n",
    "        metadata['uri'] = post['uri']\n",
    "        metadata['query'] = query\n",
    "        query_data.append(metadata)\n",
    "    query_df = pd.DataFrame(query_data)\n",
    "    return query_df"
   ]
  },
  {
   "cell_type": "code",
   "execution_count": 49,
   "id": "acba3142-0bbd-44d5-a2f4-2935d2d30c12",
   "metadata": {},
   "outputs": [],
   "source": [
    "unalive_top_df = search2df('unalive')"
   ]
  },
  {
   "cell_type": "code",
   "execution_count": 50,
   "id": "64decb4a-e379-4c6c-84e2-527179fd0011",
   "metadata": {},
   "outputs": [
    {
     "data": {
      "text/html": [
       "<div>\n",
       "<style scoped>\n",
       "    .dataframe tbody tr th:only-of-type {\n",
       "        vertical-align: middle;\n",
       "    }\n",
       "\n",
       "    .dataframe tbody tr th {\n",
       "        vertical-align: top;\n",
       "    }\n",
       "\n",
       "    .dataframe thead th {\n",
       "        text-align: right;\n",
       "    }\n",
       "</style>\n",
       "<table border=\"1\" class=\"dataframe\">\n",
       "  <thead>\n",
       "    <tr style=\"text-align: right;\">\n",
       "      <th></th>\n",
       "      <th>text</th>\n",
       "      <th>author</th>\n",
       "      <th>display_name</th>\n",
       "      <th>date</th>\n",
       "      <th>likes</th>\n",
       "      <th>quotes</th>\n",
       "      <th>replies</th>\n",
       "      <th>reposts</th>\n",
       "      <th>uri</th>\n",
       "      <th>query</th>\n",
       "    </tr>\n",
       "  </thead>\n",
       "  <tbody>\n",
       "    <tr>\n",
       "      <th>0</th>\n",
       "      <td>\"Orange Man Bad\" and \"Unalive the Boer\" are un...</td>\n",
       "      <td>maiamindel.bsky.social</td>\n",
       "      <td>Maia</td>\n",
       "      <td>2025-02-23T17:07:01.256Z</td>\n",
       "      <td>89</td>\n",
       "      <td>1</td>\n",
       "      <td>1</td>\n",
       "      <td>16</td>\n",
       "      <td>at://did:plc:ur77nun2q74loi34r2e6r43u/app.bsky...</td>\n",
       "      <td>unalive</td>\n",
       "    </tr>\n",
       "    <tr>\n",
       "      <th>1</th>\n",
       "      <td>postponing my unalive</td>\n",
       "      <td>baratiddys.bsky.social</td>\n",
       "      <td>Luis 🤍</td>\n",
       "      <td>2025-02-20T16:47:35.943Z</td>\n",
       "      <td>21</td>\n",
       "      <td>0</td>\n",
       "      <td>1</td>\n",
       "      <td>1</td>\n",
       "      <td>at://did:plc:dluxclbmnsh3bt6wyih5l6ds/app.bsky...</td>\n",
       "      <td>unalive</td>\n",
       "    </tr>\n",
       "    <tr>\n",
       "      <th>2</th>\n",
       "      <td>I *AM* on vacation and people still wanna unal...</td>\n",
       "      <td>kingserpentico.bsky.social</td>\n",
       "      <td>SNAKEMAN</td>\n",
       "      <td>2025-02-20T02:26:55.167Z</td>\n",
       "      <td>61</td>\n",
       "      <td>0</td>\n",
       "      <td>3</td>\n",
       "      <td>1</td>\n",
       "      <td>at://did:plc:pv4626x5y7zxxsupflujztqb/app.bsky...</td>\n",
       "      <td>unalive</td>\n",
       "    </tr>\n",
       "    <tr>\n",
       "      <th>3</th>\n",
       "      <td>Y'all, please stop saying \"unalive\" and \"self-...</td>\n",
       "      <td>aliothfox.ursamajorartworks.com</td>\n",
       "      <td>Alioth Daddyfox</td>\n",
       "      <td>2025-02-21T17:55:36.580Z</td>\n",
       "      <td>114</td>\n",
       "      <td>2</td>\n",
       "      <td>7</td>\n",
       "      <td>28</td>\n",
       "      <td>at://did:plc:5mkojgjmjfhdpd5lvepg2q6h/app.bsky...</td>\n",
       "      <td>unalive</td>\n",
       "    </tr>\n",
       "    <tr>\n",
       "      <th>4</th>\n",
       "      <td>Why did I marry someone who picks the WORST FU...</td>\n",
       "      <td>vitaminpac1.bsky.social</td>\n",
       "      <td>Vitamin Bee 🐝</td>\n",
       "      <td>2025-02-24T01:18:42.171Z</td>\n",
       "      <td>21</td>\n",
       "      <td>0</td>\n",
       "      <td>7</td>\n",
       "      <td>1</td>\n",
       "      <td>at://did:plc:37nxbbnnrozlllwyfngsalya/app.bsky...</td>\n",
       "      <td>unalive</td>\n",
       "    </tr>\n",
       "    <tr>\n",
       "      <th>5</th>\n",
       "      <td>unalive journal</td>\n",
       "      <td>nacl.sh</td>\n",
       "      <td>Salty 🇵🇸 🇵🇸</td>\n",
       "      <td>2025-02-23T03:57:47.089Z</td>\n",
       "      <td>28</td>\n",
       "      <td>0</td>\n",
       "      <td>2</td>\n",
       "      <td>1</td>\n",
       "      <td>at://did:plc:i5mvo22kcxsmqn6e3lgjbfnf/app.bsky...</td>\n",
       "      <td>unalive</td>\n",
       "    </tr>\n",
       "    <tr>\n",
       "      <th>6</th>\n",
       "      <td>Chat if I unalive myself</td>\n",
       "      <td>usakoing.bsky.social</td>\n",
       "      <td>serena✿</td>\n",
       "      <td>2025-02-22T16:12:41.198Z</td>\n",
       "      <td>4</td>\n",
       "      <td>4</td>\n",
       "      <td>3</td>\n",
       "      <td>0</td>\n",
       "      <td>at://did:plc:g66g533526vxkekvvxugkcah/app.bsky...</td>\n",
       "      <td>unalive</td>\n",
       "    </tr>\n",
       "    <tr>\n",
       "      <th>7</th>\n",
       "      <td>wait, people actually say unalive? we’re all s...</td>\n",
       "      <td>verynormalguy.bsky.social</td>\n",
       "      <td>evan n</td>\n",
       "      <td>2025-02-20T14:42:20.392Z</td>\n",
       "      <td>12</td>\n",
       "      <td>2</td>\n",
       "      <td>0</td>\n",
       "      <td>0</td>\n",
       "      <td>at://did:plc:fcfkcslvkunsrcldbzmx2imc/app.bsky...</td>\n",
       "      <td>unalive</td>\n",
       "    </tr>\n",
       "    <tr>\n",
       "      <th>8</th>\n",
       "      <td>An app for physician-assisted unalive: \\n\\nSnu...</td>\n",
       "      <td>sixfootfiveguy.com</td>\n",
       "      <td>Joe Spaceman</td>\n",
       "      <td>2025-02-19T16:11:55.170Z</td>\n",
       "      <td>19</td>\n",
       "      <td>0</td>\n",
       "      <td>0</td>\n",
       "      <td>0</td>\n",
       "      <td>at://did:plc:dpxvpwbgnumoxvegabzrpqg7/app.bsky...</td>\n",
       "      <td>unalive</td>\n",
       "    </tr>\n",
       "    <tr>\n",
       "      <th>9</th>\n",
       "      <td>I watched something and it used the word 'unal...</td>\n",
       "      <td>killjill.itch.io</td>\n",
       "      <td>JILLIAN F. KILLS</td>\n",
       "      <td>2025-02-23T19:07:48.841Z</td>\n",
       "      <td>14</td>\n",
       "      <td>0</td>\n",
       "      <td>1</td>\n",
       "      <td>0</td>\n",
       "      <td>at://did:plc:3lcmedxtqgg72d4ag57go72w/app.bsky...</td>\n",
       "      <td>unalive</td>\n",
       "    </tr>\n",
       "  </tbody>\n",
       "</table>\n",
       "</div>"
      ],
      "text/plain": [
       "                                                text  \\\n",
       "0  \"Orange Man Bad\" and \"Unalive the Boer\" are un...   \n",
       "1                              postponing my unalive   \n",
       "2  I *AM* on vacation and people still wanna unal...   \n",
       "3  Y'all, please stop saying \"unalive\" and \"self-...   \n",
       "4  Why did I marry someone who picks the WORST FU...   \n",
       "5                                    unalive journal   \n",
       "6                           Chat if I unalive myself   \n",
       "7  wait, people actually say unalive? we’re all s...   \n",
       "8  An app for physician-assisted unalive: \\n\\nSnu...   \n",
       "9  I watched something and it used the word 'unal...   \n",
       "\n",
       "                            author      display_name  \\\n",
       "0           maiamindel.bsky.social              Maia   \n",
       "1           baratiddys.bsky.social            Luis 🤍   \n",
       "2       kingserpentico.bsky.social          SNAKEMAN   \n",
       "3  aliothfox.ursamajorartworks.com   Alioth Daddyfox   \n",
       "4          vitaminpac1.bsky.social    Vitamin Bee 🐝    \n",
       "5                          nacl.sh       Salty 🇵🇸 🇵🇸   \n",
       "6             usakoing.bsky.social           serena✿   \n",
       "7        verynormalguy.bsky.social           evan n    \n",
       "8               sixfootfiveguy.com      Joe Spaceman   \n",
       "9                 killjill.itch.io  JILLIAN F. KILLS   \n",
       "\n",
       "                       date  likes  quotes  replies  reposts  \\\n",
       "0  2025-02-23T17:07:01.256Z     89       1        1       16   \n",
       "1  2025-02-20T16:47:35.943Z     21       0        1        1   \n",
       "2  2025-02-20T02:26:55.167Z     61       0        3        1   \n",
       "3  2025-02-21T17:55:36.580Z    114       2        7       28   \n",
       "4  2025-02-24T01:18:42.171Z     21       0        7        1   \n",
       "5  2025-02-23T03:57:47.089Z     28       0        2        1   \n",
       "6  2025-02-22T16:12:41.198Z      4       4        3        0   \n",
       "7  2025-02-20T14:42:20.392Z     12       2        0        0   \n",
       "8  2025-02-19T16:11:55.170Z     19       0        0        0   \n",
       "9  2025-02-23T19:07:48.841Z     14       0        1        0   \n",
       "\n",
       "                                                 uri    query  \n",
       "0  at://did:plc:ur77nun2q74loi34r2e6r43u/app.bsky...  unalive  \n",
       "1  at://did:plc:dluxclbmnsh3bt6wyih5l6ds/app.bsky...  unalive  \n",
       "2  at://did:plc:pv4626x5y7zxxsupflujztqb/app.bsky...  unalive  \n",
       "3  at://did:plc:5mkojgjmjfhdpd5lvepg2q6h/app.bsky...  unalive  \n",
       "4  at://did:plc:37nxbbnnrozlllwyfngsalya/app.bsky...  unalive  \n",
       "5  at://did:plc:i5mvo22kcxsmqn6e3lgjbfnf/app.bsky...  unalive  \n",
       "6  at://did:plc:g66g533526vxkekvvxugkcah/app.bsky...  unalive  \n",
       "7  at://did:plc:fcfkcslvkunsrcldbzmx2imc/app.bsky...  unalive  \n",
       "8  at://did:plc:dpxvpwbgnumoxvegabzrpqg7/app.bsky...  unalive  \n",
       "9  at://did:plc:3lcmedxtqgg72d4ag57go72w/app.bsky...  unalive  "
      ]
     },
     "execution_count": 50,
     "metadata": {},
     "output_type": "execute_result"
    }
   ],
   "source": [
    "unalive_top_df"
   ]
  },
  {
   "cell_type": "code",
   "execution_count": null,
   "id": "6dd980d8-0c10-4d0c-9485-0b691bde24bc",
   "metadata": {},
   "outputs": [],
   "source": []
  }
 ],
 "metadata": {
  "kernelspec": {
   "display_name": "Python 3 (ipykernel)",
   "language": "python",
   "name": "python3"
  },
  "language_info": {
   "codemirror_mode": {
    "name": "ipython",
    "version": 3
   },
   "file_extension": ".py",
   "mimetype": "text/x-python",
   "name": "python",
   "nbconvert_exporter": "python",
   "pygments_lexer": "ipython3",
   "version": "3.11.3"
  }
 },
 "nbformat": 4,
 "nbformat_minor": 5
}
