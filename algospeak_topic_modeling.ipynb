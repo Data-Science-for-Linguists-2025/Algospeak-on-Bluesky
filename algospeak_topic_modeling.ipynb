{
 "cells": [
  {
   "cell_type": "markdown",
   "id": "7043182d-f817-4b89-a515-7507fbc3a6ed",
   "metadata": {},
   "source": [
    "# Algospeak Topic Modeling\n",
    "This notebook contains some topic modeling for my algospeak project.  \n",
    "This is a new, continuing script.\n",
    "\n",
    "**Contents**\n",
    "- [1 Data reshaping](#1-Data-reshaping)\n",
    "- [2 K-means clustering](#2-K-means-clustering)\n",
    "- [3 Topic modelling](#3-Topic-Modelling)"
   ]
  },
  {
   "cell_type": "code",
   "execution_count": 1,
   "id": "a19cc62c-2205-42de-98e3-fe57e0850037",
   "metadata": {},
   "outputs": [
    {
     "name": "stdout",
     "output_type": "stream",
     "text": [
      "Pretty printing has been turned OFF\n"
     ]
    }
   ],
   "source": [
    "import pandas as pd\n",
    "import numpy as np\n",
    "import sklearn\n",
    "from sklearn.feature_extraction.text import TfidfVectorizer, CountVectorizer\n",
    "from sklearn.decomposition import NMF, LatentDirichletAllocation\n",
    "from sklearn.cluster import KMeans\n",
    "from sklearn.pipeline import make_pipeline\n",
    "%pprint\n",
    "pd.set_option('display.max_colwidth', None)\n",
    "pd.set_option('display.max_columns', None)"
   ]
  },
  {
   "cell_type": "markdown",
   "id": "16c173f9-343b-4e21-a07e-c32e949227f1",
   "metadata": {},
   "source": [
    "## 1 Data reshaping\n",
    "I'm only looking at the algospeak usage of terms, so I'll be looking at mention_codes a (algospeak) and m (mention)"
   ]
  },
  {
   "cell_type": "code",
   "execution_count": 2,
   "id": "e5f10344-60e5-42f0-8a32-c0ec297c2c5e",
   "metadata": {},
   "outputs": [],
   "source": [
    "unalive_df = pd.read_csv('unalive_top_posts.csv')"
   ]
  },
  {
   "cell_type": "code",
   "execution_count": 3,
   "id": "26f611f0-5c96-465c-8865-9d357ceabcc0",
   "metadata": {},
   "outputs": [
    {
     "data": {
      "text/html": [
       "<div>\n",
       "<style scoped>\n",
       "    .dataframe tbody tr th:only-of-type {\n",
       "        vertical-align: middle;\n",
       "    }\n",
       "\n",
       "    .dataframe tbody tr th {\n",
       "        vertical-align: top;\n",
       "    }\n",
       "\n",
       "    .dataframe thead th {\n",
       "        text-align: right;\n",
       "    }\n",
       "</style>\n",
       "<table border=\"1\" class=\"dataframe\">\n",
       "  <thead>\n",
       "    <tr style=\"text-align: right;\">\n",
       "      <th></th>\n",
       "      <th>text</th>\n",
       "      <th>author</th>\n",
       "      <th>display_name</th>\n",
       "      <th>date</th>\n",
       "      <th>likes</th>\n",
       "      <th>quotes</th>\n",
       "      <th>replies</th>\n",
       "      <th>reposts</th>\n",
       "      <th>uri</th>\n",
       "      <th>url</th>\n",
       "      <th>reply_to</th>\n",
       "      <th>reply_to_uri</th>\n",
       "      <th>reply_to_url</th>\n",
       "      <th>query</th>\n",
       "      <th>mention_code</th>\n",
       "      <th>replace_code</th>\n",
       "      <th>topic_code</th>\n",
       "    </tr>\n",
       "  </thead>\n",
       "  <tbody>\n",
       "    <tr>\n",
       "      <th>0</th>\n",
       "      <td>unalive</td>\n",
       "      <td>ninochuu.zip</td>\n",
       "      <td>nino</td>\n",
       "      <td>2025-04-12T20:19:42.329Z</td>\n",
       "      <td>154</td>\n",
       "      <td>0</td>\n",
       "      <td>0</td>\n",
       "      <td>29</td>\n",
       "      <td>at://did:plc:75rnvxji6taq2xyxq63ejhmm/app.bsky.feed.post/3lmne72jmws2d</td>\n",
       "      <td>https://bsky.app/profile/did:plc:75rnvxji6taq2xyxq63ejhmm/post/3lmne72jmws2d</td>\n",
       "      <td>No</td>\n",
       "      <td>NaN</td>\n",
       "      <td>NaN</td>\n",
       "      <td>unalive</td>\n",
       "      <td>o</td>\n",
       "      <td>NaN</td>\n",
       "      <td>unclear</td>\n",
       "    </tr>\n",
       "    <tr>\n",
       "      <th>1</th>\n",
       "      <td>We should unalive Caesar?</td>\n",
       "      <td>doktorslek.bsky.social</td>\n",
       "      <td>Doktor Slek 🦘☭</td>\n",
       "      <td>2025-04-15T02:50:06.393Z</td>\n",
       "      <td>10</td>\n",
       "      <td>0</td>\n",
       "      <td>0</td>\n",
       "      <td>0</td>\n",
       "      <td>at://did:plc:g7cu7736qmemcopvjip74g3b/app.bsky.feed.post/3lmt2wyd5q22a</td>\n",
       "      <td>https://bsky.app/profile/did:plc:g7cu7736qmemcopvjip74g3b/post/3lmt2wyd5q22a</td>\n",
       "      <td>Yes</td>\n",
       "      <td>at://did:plc:awzzrtrcrvpnxi3ph2sbhxwv/app.bsky.feed.post/3lmt2lhdlwk2l</td>\n",
       "      <td>https://bsky.app/profile/did:plc:awzzrtrcrvpnxi3ph2sbhxwv/post/3lmt2lhdlwk2l</td>\n",
       "      <td>unalive</td>\n",
       "      <td>a</td>\n",
       "      <td>kill</td>\n",
       "      <td>joke</td>\n",
       "    </tr>\n",
       "    <tr>\n",
       "      <th>2</th>\n",
       "      <td>You ever chill so hard that you appear unalive??</td>\n",
       "      <td>laminatedliss.bsky.social</td>\n",
       "      <td>Churro’s Mom</td>\n",
       "      <td>2025-04-11T15:57:19.608Z</td>\n",
       "      <td>40</td>\n",
       "      <td>1</td>\n",
       "      <td>7</td>\n",
       "      <td>1</td>\n",
       "      <td>at://did:plc:kvyauj6dn35wre6meqyg6ync/app.bsky.feed.post/3lmkf2xlja22o</td>\n",
       "      <td>https://bsky.app/profile/did:plc:kvyauj6dn35wre6meqyg6ync/post/3lmkf2xlja22o</td>\n",
       "      <td>No</td>\n",
       "      <td>NaN</td>\n",
       "      <td>NaN</td>\n",
       "      <td>unalive</td>\n",
       "      <td>a</td>\n",
       "      <td>dead</td>\n",
       "      <td>living</td>\n",
       "    </tr>\n",
       "    <tr>\n",
       "      <th>3</th>\n",
       "      <td>Musk can unalive any of us and cut off all means of support \\nIf they can unalive these 6000</td>\n",
       "      <td>iputadollarin.bsky.social</td>\n",
       "      <td>Iputadollariniwinacar</td>\n",
       "      <td>2025-04-12T23:12:34.756Z</td>\n",
       "      <td>7</td>\n",
       "      <td>0</td>\n",
       "      <td>2</td>\n",
       "      <td>0</td>\n",
       "      <td>at://did:plc:icoabg5urmotmxr3cko3qfsi/app.bsky.feed.post/3lmnnu6fchs26</td>\n",
       "      <td>https://bsky.app/profile/did:plc:icoabg5urmotmxr3cko3qfsi/post/3lmnnu6fchs26</td>\n",
       "      <td>Yes</td>\n",
       "      <td>at://did:plc:q3bbdtxch45wvfxrxpblphxn/app.bsky.feed.post/3lmnh3qmq5c2h</td>\n",
       "      <td>https://bsky.app/profile/did:plc:q3bbdtxch45wvfxrxpblphxn/post/3lmnh3qmq5c2h</td>\n",
       "      <td>unalive</td>\n",
       "      <td>a</td>\n",
       "      <td>kill</td>\n",
       "      <td>Elon Musk</td>\n",
       "    </tr>\n",
       "    <tr>\n",
       "      <th>4</th>\n",
       "      <td>That happened the moment we let these companies forced creators and content-makers to use the word \"unalive\". FUCK THAT! People die, people get killed, people commit suicide. Use words. Don't pander to that nonsense.</td>\n",
       "      <td>jayej330.bsky.social</td>\n",
       "      <td>Jayleigh \"Jaye\" Jimenez</td>\n",
       "      <td>2025-04-14T08:57:07.765Z</td>\n",
       "      <td>29</td>\n",
       "      <td>0</td>\n",
       "      <td>1</td>\n",
       "      <td>0</td>\n",
       "      <td>at://did:plc:r6coggh5qqmqrqvrpitb7khu/app.bsky.feed.post/3lmr6ye3esc2m</td>\n",
       "      <td>https://bsky.app/profile/did:plc:r6coggh5qqmqrqvrpitb7khu/post/3lmr6ye3esc2m</td>\n",
       "      <td>Yes</td>\n",
       "      <td>at://did:plc:uqppyrcon566pkrszusjonav/app.bsky.feed.post/3lmr67dl25c2s</td>\n",
       "      <td>https://bsky.app/profile/did:plc:uqppyrcon566pkrszusjonav/post/3lmr67dl25c2s</td>\n",
       "      <td>unalive</td>\n",
       "      <td>m</td>\n",
       "      <td>NaN</td>\n",
       "      <td>censorship</td>\n",
       "    </tr>\n",
       "  </tbody>\n",
       "</table>\n",
       "</div>"
      ],
      "text/plain": [
       "                                                                                                                                                                                                                       text  \\\n",
       "0                                                                                                                                                                                                                   unalive   \n",
       "1                                                                                                                                                                                                 We should unalive Caesar?   \n",
       "2                                                                                                                                                                          You ever chill so hard that you appear unalive??   \n",
       "3                                                                                                                              Musk can unalive any of us and cut off all means of support \\nIf they can unalive these 6000   \n",
       "4  That happened the moment we let these companies forced creators and content-makers to use the word \"unalive\". FUCK THAT! People die, people get killed, people commit suicide. Use words. Don't pander to that nonsense.   \n",
       "\n",
       "                      author             display_name  \\\n",
       "0               ninochuu.zip                     nino   \n",
       "1     doktorslek.bsky.social           Doktor Slek 🦘☭   \n",
       "2  laminatedliss.bsky.social             Churro’s Mom   \n",
       "3  iputadollarin.bsky.social    Iputadollariniwinacar   \n",
       "4       jayej330.bsky.social  Jayleigh \"Jaye\" Jimenez   \n",
       "\n",
       "                       date  likes  quotes  replies  reposts  \\\n",
       "0  2025-04-12T20:19:42.329Z    154       0        0       29   \n",
       "1  2025-04-15T02:50:06.393Z     10       0        0        0   \n",
       "2  2025-04-11T15:57:19.608Z     40       1        7        1   \n",
       "3  2025-04-12T23:12:34.756Z      7       0        2        0   \n",
       "4  2025-04-14T08:57:07.765Z     29       0        1        0   \n",
       "\n",
       "                                                                      uri  \\\n",
       "0  at://did:plc:75rnvxji6taq2xyxq63ejhmm/app.bsky.feed.post/3lmne72jmws2d   \n",
       "1  at://did:plc:g7cu7736qmemcopvjip74g3b/app.bsky.feed.post/3lmt2wyd5q22a   \n",
       "2  at://did:plc:kvyauj6dn35wre6meqyg6ync/app.bsky.feed.post/3lmkf2xlja22o   \n",
       "3  at://did:plc:icoabg5urmotmxr3cko3qfsi/app.bsky.feed.post/3lmnnu6fchs26   \n",
       "4  at://did:plc:r6coggh5qqmqrqvrpitb7khu/app.bsky.feed.post/3lmr6ye3esc2m   \n",
       "\n",
       "                                                                            url  \\\n",
       "0  https://bsky.app/profile/did:plc:75rnvxji6taq2xyxq63ejhmm/post/3lmne72jmws2d   \n",
       "1  https://bsky.app/profile/did:plc:g7cu7736qmemcopvjip74g3b/post/3lmt2wyd5q22a   \n",
       "2  https://bsky.app/profile/did:plc:kvyauj6dn35wre6meqyg6ync/post/3lmkf2xlja22o   \n",
       "3  https://bsky.app/profile/did:plc:icoabg5urmotmxr3cko3qfsi/post/3lmnnu6fchs26   \n",
       "4  https://bsky.app/profile/did:plc:r6coggh5qqmqrqvrpitb7khu/post/3lmr6ye3esc2m   \n",
       "\n",
       "  reply_to  \\\n",
       "0       No   \n",
       "1      Yes   \n",
       "2       No   \n",
       "3      Yes   \n",
       "4      Yes   \n",
       "\n",
       "                                                             reply_to_uri  \\\n",
       "0                                                                     NaN   \n",
       "1  at://did:plc:awzzrtrcrvpnxi3ph2sbhxwv/app.bsky.feed.post/3lmt2lhdlwk2l   \n",
       "2                                                                     NaN   \n",
       "3  at://did:plc:q3bbdtxch45wvfxrxpblphxn/app.bsky.feed.post/3lmnh3qmq5c2h   \n",
       "4  at://did:plc:uqppyrcon566pkrszusjonav/app.bsky.feed.post/3lmr67dl25c2s   \n",
       "\n",
       "                                                                   reply_to_url  \\\n",
       "0                                                                           NaN   \n",
       "1  https://bsky.app/profile/did:plc:awzzrtrcrvpnxi3ph2sbhxwv/post/3lmt2lhdlwk2l   \n",
       "2                                                                           NaN   \n",
       "3  https://bsky.app/profile/did:plc:q3bbdtxch45wvfxrxpblphxn/post/3lmnh3qmq5c2h   \n",
       "4  https://bsky.app/profile/did:plc:uqppyrcon566pkrszusjonav/post/3lmr67dl25c2s   \n",
       "\n",
       "     query mention_code replace_code  topic_code  \n",
       "0  unalive            o          NaN     unclear  \n",
       "1  unalive            a         kill        joke  \n",
       "2  unalive            a         dead      living  \n",
       "3  unalive            a         kill   Elon Musk  \n",
       "4  unalive            m          NaN  censorship  "
      ]
     },
     "execution_count": 3,
     "metadata": {},
     "output_type": "execute_result"
    }
   ],
   "source": [
    "unalive_df.head()"
   ]
  },
  {
   "cell_type": "code",
   "execution_count": 4,
   "id": "0851abbc-b9b4-4d3e-a826-0f97be3e89a8",
   "metadata": {},
   "outputs": [
    {
     "data": {
      "text/html": [
       "<div>\n",
       "<style scoped>\n",
       "    .dataframe tbody tr th:only-of-type {\n",
       "        vertical-align: middle;\n",
       "    }\n",
       "\n",
       "    .dataframe tbody tr th {\n",
       "        vertical-align: top;\n",
       "    }\n",
       "\n",
       "    .dataframe thead th {\n",
       "        text-align: right;\n",
       "    }\n",
       "</style>\n",
       "<table border=\"1\" class=\"dataframe\">\n",
       "  <thead>\n",
       "    <tr style=\"text-align: right;\">\n",
       "      <th></th>\n",
       "      <th>text</th>\n",
       "      <th>mention_code</th>\n",
       "    </tr>\n",
       "  </thead>\n",
       "  <tbody>\n",
       "    <tr>\n",
       "      <th>97</th>\n",
       "      <td>there is a character named chungus and they also say “unalive”</td>\n",
       "      <td>m</td>\n",
       "    </tr>\n",
       "    <tr>\n",
       "      <th>65</th>\n",
       "      <td>Just had to close a video a minute in because the narrator kept censoring the word \"die\" with \"unalive\" and then said \"costed\"</td>\n",
       "      <td>m</td>\n",
       "    </tr>\n",
       "    <tr>\n",
       "      <th>75</th>\n",
       "      <td>Gonna have to put bleeps in my podcast but I’d rather do that than say stupid shit like “unalive” or “pew pew”</td>\n",
       "      <td>m</td>\n",
       "    </tr>\n",
       "    <tr>\n",
       "      <th>177</th>\n",
       "      <td>I swear, when my period hits, my mood switches can be drastic!\\nI could go from \"I am hungry, and I'm going to make ramen.\" to \"I will unalive you right now if you eat a single noodle from my bowl!\" to \"Heheh, pretty vampire men, mmm~' and then 'Why was I born?'.\\nIt often scares me o.o</td>\n",
       "      <td>a</td>\n",
       "    </tr>\n",
       "    <tr>\n",
       "      <th>158</th>\n",
       "      <td>It's already here.  the question is, are we going to lay down and let them do it, or are we going to kick them so hard in the nootz that they unalive on impact?  Or at least regret their life's choices.....</td>\n",
       "      <td>a</td>\n",
       "    </tr>\n",
       "    <tr>\n",
       "      <th>27</th>\n",
       "      <td>They’re giving El Salvador enough time to unalive him-\\n\\nDead men don’t talk</td>\n",
       "      <td>a</td>\n",
       "    </tr>\n",
       "    <tr>\n",
       "      <th>148</th>\n",
       "      <td>wish he was unalive.</td>\n",
       "      <td>a</td>\n",
       "    </tr>\n",
       "    <tr>\n",
       "      <th>58</th>\n",
       "      <td>Harry, we really do not know if he is still among the living. The Salvadorans may been instructed to unalive him and all of the others for all we know. Of course they are going to obstruct and deflect.</td>\n",
       "      <td>a</td>\n",
       "    </tr>\n",
       "    <tr>\n",
       "      <th>178</th>\n",
       "      <td>\"sewer slide\" \"unalive\" I hate you!!!!!! I hate you!!!!!!!!!!!!!!!!!</td>\n",
       "      <td>m</td>\n",
       "    </tr>\n",
       "    <tr>\n",
       "      <th>92</th>\n",
       "      <td>I hate Mondays! Always have and always will. I had the weirdest dream today. Someone is fucking up my future. That's obvious. But I didn't understand why I went to a dinner where everyone got poisoned. I was also in New Hampshire. That would be my sister Angie. She's trying to unalive some people</td>\n",
       "      <td>a</td>\n",
       "    </tr>\n",
       "  </tbody>\n",
       "</table>\n",
       "</div>"
      ],
      "text/plain": [
       "                                                                                                                                                                                                                                                                                                          text  \\\n",
       "97                                                                                                                                                                                                                                              there is a character named chungus and they also say “unalive”   \n",
       "65                                                                                                                                                                              Just had to close a video a minute in because the narrator kept censoring the word \"die\" with \"unalive\" and then said \"costed\"   \n",
       "75                                                                                                                                                                                              Gonna have to put bleeps in my podcast but I’d rather do that than say stupid shit like “unalive” or “pew pew”   \n",
       "177            I swear, when my period hits, my mood switches can be drastic!\\nI could go from \"I am hungry, and I'm going to make ramen.\" to \"I will unalive you right now if you eat a single noodle from my bowl!\" to \"Heheh, pretty vampire men, mmm~' and then 'Why was I born?'.\\nIt often scares me o.o   \n",
       "158                                                                                             It's already here.  the question is, are we going to lay down and let them do it, or are we going to kick them so hard in the nootz that they unalive on impact?  Or at least regret their life's choices.....   \n",
       "27                                                                                                                                                                                                                               They’re giving El Salvador enough time to unalive him-\\n\\nDead men don’t talk   \n",
       "148                                                                                                                                                                                                                                                                                       wish he was unalive.   \n",
       "58                                                                                                   Harry, we really do not know if he is still among the living. The Salvadorans may been instructed to unalive him and all of the others for all we know. Of course they are going to obstruct and deflect.   \n",
       "178                                                                                                                                                                                                                                       \"sewer slide\" \"unalive\" I hate you!!!!!! I hate you!!!!!!!!!!!!!!!!!   \n",
       "92   I hate Mondays! Always have and always will. I had the weirdest dream today. Someone is fucking up my future. That's obvious. But I didn't understand why I went to a dinner where everyone got poisoned. I was also in New Hampshire. That would be my sister Angie. She's trying to unalive some people   \n",
       "\n",
       "    mention_code  \n",
       "97             m  \n",
       "65             m  \n",
       "75             m  \n",
       "177            a  \n",
       "158            a  \n",
       "27             a  \n",
       "148            a  \n",
       "58             a  \n",
       "178            m  \n",
       "92             a  "
      ]
     },
     "execution_count": 4,
     "metadata": {},
     "output_type": "execute_result"
    }
   ],
   "source": [
    "un_am_df = unalive_df[unalive_df['mention_code'].isin(['a', 'm'])]\n",
    "un_am_df[['text', 'mention_code']].sample(10)"
   ]
  },
  {
   "cell_type": "code",
   "execution_count": 5,
   "id": "0df31627-abd1-441f-b80d-596cf1e598b8",
   "metadata": {},
   "outputs": [
    {
     "data": {
      "text/plain": [
       "mention_code\n",
       "a    123\n",
       "m     65\n",
       "Name: count, dtype: int64"
      ]
     },
     "execution_count": 5,
     "metadata": {},
     "output_type": "execute_result"
    }
   ],
   "source": [
    "un_am_df.mention_code.value_counts()"
   ]
  },
  {
   "cell_type": "code",
   "execution_count": 6,
   "id": "6c914588-d1f9-45e5-bacd-920256f9f8ec",
   "metadata": {},
   "outputs": [
    {
     "data": {
      "text/plain": [
       "1                                                                                                                                                                                                   We should unalive Caesar?\n",
       "2                                                                                                                                                                            You ever chill so hard that you appear unalive??\n",
       "3                                                                                                                                Musk can unalive any of us and cut off all means of support \\nIf they can unalive these 6000\n",
       "4    That happened the moment we let these companies forced creators and content-makers to use the word \"unalive\". FUCK THAT! People die, people get killed, people commit suicide. Use words. Don't pander to that nonsense.\n",
       "5                                                                                                                                                                                                          I’d unalive myself\n",
       "Name: text, dtype: object"
      ]
     },
     "execution_count": 6,
     "metadata": {},
     "output_type": "execute_result"
    }
   ],
   "source": [
    "un_docs = un_am_df.text\n",
    "un_docs.head()"
   ]
  },
  {
   "cell_type": "code",
   "execution_count": 7,
   "id": "077a03f1-d9f8-4cdb-a124-de82b40701d2",
   "metadata": {},
   "outputs": [
    {
     "data": {
      "text/plain": [
       "1                                                                       We should unalive Caesar?\n",
       "2                                                You ever chill so hard that you appear unalive??\n",
       "3    Musk can unalive any of us and cut off all means of support \\nIf they can unalive these 6000\n",
       "5                                                                              I’d unalive myself\n",
       "6                                                        I’m really concerned that he is unalive.\n",
       "Name: text, dtype: object"
      ]
     },
     "execution_count": 7,
     "metadata": {},
     "output_type": "execute_result"
    }
   ],
   "source": [
    "a_df = unalive_df[unalive_df['mention_code'].isin(['a'])]\n",
    "a_docs = a_df.text\n",
    "a_docs.head()"
   ]
  },
  {
   "cell_type": "code",
   "execution_count": 8,
   "id": "d67bd161-3620-475b-8fb1-a3163ead2705",
   "metadata": {},
   "outputs": [
    {
     "data": {
      "text/plain": [
       "4                                                  That happened the moment we let these companies forced creators and content-makers to use the word \"unalive\". FUCK THAT! People die, people get killed, people commit suicide. Use words. Don't pander to that nonsense.\n",
       "8                                                                                                                                                                                                   >the minecraft movie features a character unironically saying \"unalive\"\n",
       "13                                                                                                                                             I'm pretty sure someone says \"unalive\" instead of \"kill\" in the Minecraft movies without a hint of irony. \\n\\nWhat happened.\n",
       "14    I find all of this completely ludicrous. \"Unalive\" - Jesus fucking Christ. It crops up all the time in autogenerated subtitles and it's driving me mental. We're devolving into fucking baby talk trying to adhere to guidelines we can't see and that may not exist.\n",
       "15                                                                               remembering that dipshit american girl on tiktok crying at a canadian going \"YOU CANADIANS ARE GOING TO UNALIVE MILLIONS OF PEOPLE BY CUTTING OFF ENERGY TO MICHIGAN AND PENNSYLVANIA\" lol\n",
       "Name: text, dtype: object"
      ]
     },
     "execution_count": 8,
     "metadata": {},
     "output_type": "execute_result"
    }
   ],
   "source": [
    "m_df = unalive_df[unalive_df['mention_code'].isin(['m'])]\n",
    "m_docs = m_df.text\n",
    "m_docs.head()"
   ]
  },
  {
   "cell_type": "markdown",
   "id": "aa2e283d-c114-4af1-bb95-16020c0ec601",
   "metadata": {},
   "source": [
    "## 2 K-means clustering\n",
    "Borrowing the plot_inertia function from [Qidu's notebook](https://github.com/Data-Science-for-Linguists-2025/Chinese-English-Code-Switching-Analysis/blob/main/notebooks/2.1_analyze_data.ipynb)"
   ]
  },
  {
   "cell_type": "code",
   "execution_count": 9,
   "id": "15189d93-52b3-4fa6-993f-8da6b5fd5a4d",
   "metadata": {},
   "outputs": [
    {
     "ename": "NameError",
     "evalue": "name 'num_feats' is not defined",
     "output_type": "error",
     "traceback": [
      "\u001b[1;31m---------------------------------------------------------------------------\u001b[0m",
      "\u001b[1;31mNameError\u001b[0m                                 Traceback (most recent call last)",
      "Cell \u001b[1;32mIn[9], line 1\u001b[0m\n\u001b[1;32m----> 1\u001b[0m tfidf_vectorizer \u001b[38;5;241m=\u001b[39m TfidfVectorizer(max_df\u001b[38;5;241m=\u001b[39m\u001b[38;5;241m0.8\u001b[39m, max_features\u001b[38;5;241m=\u001b[39m\u001b[43mnum_feats\u001b[49m, stop_words\u001b[38;5;241m=\u001b[39m\u001b[38;5;124m'\u001b[39m\u001b[38;5;124menglish\u001b[39m\u001b[38;5;124m'\u001b[39m)\n\u001b[0;32m      2\u001b[0m kmeans \u001b[38;5;241m=\u001b[39m KMeans(n_clusters\u001b[38;5;241m=\u001b[39m\u001b[38;5;241m5\u001b[39m)\n\u001b[0;32m      3\u001b[0m pipeline \u001b[38;5;241m=\u001b[39m make_pipeline(tfidf_vectorizer, kmeans)\n",
      "\u001b[1;31mNameError\u001b[0m: name 'num_feats' is not defined"
     ]
    }
   ],
   "source": [
    "tfidf_vectorizer = TfidfVectorizer(max_df=0.8, max_features=num_feats, stop_words='english')\n",
    "kmeans = KMeans(n_clusters=5)\n",
    "pipeline = make_pipeline(tfidf_vectorizer, kmeans)"
   ]
  },
  {
   "cell_type": "code",
   "execution_count": null,
   "id": "186e3dc7-e573-4800-90f3-4b0f866df50a",
   "metadata": {},
   "outputs": [],
   "source": [
    "import matplotlib.pyplot as plt\n",
    "\n",
    "def plot_inertia(docs, pipeline, max_clusters=10, random_state=0):\n",
    "    \"\"\"\n",
    "    Plots the inertia for different numbers of clusters to help identify the optimal number.\n",
    "\n",
    "    Parameters:\n",
    "    docs (series): a series of strings\n",
    "    pipeline (object): A scikit-learn pipeline to be used for fitting the data.\n",
    "    max_clusters (int): The maximum number of clusters to test. Default is 10.\n",
    "\n",
    "    Returns:\n",
    "    None: This function only generates and displays a plot of inertia values.\n",
    "    \"\"\"\n",
    "    inertia = []  # List to store inertia values\n",
    "    \n",
    "    # Loop through different numbers of clusters\n",
    "    for n in range(1, max_clusters + 1):\n",
    "        # Update the pipeline with the current number of clusters\n",
    "        pipeline.set_params(kmeans__n_clusters=n, \n",
    "                                kmeans__random_state=random_state)\n",
    "        \n",
    "        # Fit the pipeline to the data\n",
    "        pipeline.fit(docs)\n",
    "        \n",
    "        # Get the KMeans model from the pipeline\n",
    "        kmeans = pipeline.named_steps['kmeans']\n",
    "        \n",
    "        # Append the inertia value for the current model\n",
    "        inertia.append(kmeans.inertia_)\n",
    "    \n",
    "    # Plot inertia to visualize the optimal number of clusters\n",
    "    plt.figure(figsize=(8, 5))\n",
    "    plt.plot(range(1, max_clusters + 1), inertia, marker='o')\n",
    "    plt.title('KMeans Inertia')\n",
    "    plt.xlabel('Number of Clusters')\n",
    "    plt.ylabel('Inertia')\n",
    "    # save the plot to plots/\n",
    "    plt.savefig('plots/kmeans_inertia.png')\n",
    "    plt.show()"
   ]
  },
  {
   "cell_type": "code",
   "execution_count": null,
   "id": "e1d771dc-f9e4-4025-9e2e-a1e93e6e4da6",
   "metadata": {},
   "outputs": [],
   "source": [
    "plot_inertia(un_docs, pipeline, max_clusters=10)"
   ]
  },
  {
   "cell_type": "markdown",
   "id": "12635499-29bb-4ddf-99f1-6256a3786649",
   "metadata": {},
   "source": [
    "Seems like 6 is the correct number of topics for all of the unalive data"
   ]
  },
  {
   "cell_type": "code",
   "execution_count": null,
   "id": "4c82aafe-4163-4c8d-8d41-9bfbfaafe99d",
   "metadata": {},
   "outputs": [],
   "source": [
    "# Just a codes\n",
    "plot_inertia(a_docs, pipeline, max_clusters=10)"
   ]
  },
  {
   "cell_type": "markdown",
   "id": "925bdd7d-5a62-450d-b6fa-4e4b22cb3c87",
   "metadata": {},
   "source": [
    "This is less clear, but maybe 8 topics?"
   ]
  },
  {
   "cell_type": "code",
   "execution_count": null,
   "id": "19a7ac01-9ce6-4716-9c71-c6f889442e74",
   "metadata": {},
   "outputs": [],
   "source": [
    "# Just m codes\n",
    "plot_inertia(m_docs, pipeline, max_clusters=10)"
   ]
  },
  {
   "cell_type": "markdown",
   "id": "39d9db04-5eae-47ad-b76f-55c707225bde",
   "metadata": {},
   "source": [
    "8 topics again!"
   ]
  },
  {
   "cell_type": "markdown",
   "id": "8cbcfcbc-ec1d-48b4-b23d-a919ed36b0fd",
   "metadata": {},
   "source": [
    "## 3 Topic Modelling\n",
    "I will be modelling the topics for all unalive posts, just the posts with a codes, and just the posts with m codes."
   ]
  },
  {
   "cell_type": "code",
   "execution_count": null,
   "id": "ffcc2fbb-65be-4e3e-9e3c-020a55a092c6",
   "metadata": {},
   "outputs": [],
   "source": [
    "num_feats = 1000\n",
    "num_topics = 6\n",
    "\n",
    "tfidf_vectorizer = TfidfVectorizer(max_df=0.8, max_features=num_feats, stop_words='english')\n",
    "tfidf_docs = tfidf_vectorizer.fit_transform(un_docs)\n",
    "\n",
    "nmf_model = NMF(n_components=num_topics, random_state=1, l1_ratio=.5, \n",
    "                init='nndsvd').fit(tfidf_docs)\n",
    "\n",
    "display_topics(nmf_model, tfidf_vectorizer.get_feature_names_out(), 10)"
   ]
  },
  {
   "cell_type": "code",
   "execution_count": null,
   "id": "a532367b-d0ac-45b8-8b80-82c2533b42f9",
   "metadata": {},
   "outputs": [],
   "source": [
    "num_feats = 1000\n",
    "num_topics = 8\n",
    "\n",
    "tfidf_vectorizer = TfidfVectorizer(max_df=0.8, max_features=num_feats, stop_words='english')\n",
    "tfidf_docs = tfidf_vectorizer.fit_transform(a_docs)\n",
    "\n",
    "nmf_model = NMF(n_components=num_topics, random_state=1, l1_ratio=.5, \n",
    "                init='nndsvd').fit(tfidf_docs)\n",
    "\n",
    "display_topics(nmf_model, tfidf_vectorizer.get_feature_names_out(), 10)"
   ]
  },
  {
   "cell_type": "code",
   "execution_count": null,
   "id": "d0f026f2-399b-405f-bfd0-26daf81d2518",
   "metadata": {},
   "outputs": [],
   "source": [
    "num_feats = 1000\n",
    "num_topics = 8\n",
    "\n",
    "tfidf_vectorizer = TfidfVectorizer(max_df=0.8, max_features=num_feats, stop_words='english')\n",
    "tfidf_docs = tfidf_vectorizer.fit_transform(m_docs)\n",
    "\n",
    "nmf_model = NMF(n_components=num_topics, random_state=1, l1_ratio=.5, \n",
    "                init='nndsvd').fit(tfidf_docs)\n",
    "\n",
    "display_topics(nmf_model, tfidf_vectorizer.get_feature_names_out(), 10)"
   ]
  },
  {
   "cell_type": "code",
   "execution_count": null,
   "id": "d000db1e-316b-4f3a-89e6-14f642958c5d",
   "metadata": {},
   "outputs": [],
   "source": []
  }
 ],
 "metadata": {
  "kernelspec": {
   "display_name": "Python 3 (ipykernel)",
   "language": "python",
   "name": "python3"
  },
  "language_info": {
   "codemirror_mode": {
    "name": "ipython",
    "version": 3
   },
   "file_extension": ".py",
   "mimetype": "text/x-python",
   "name": "python",
   "nbconvert_exporter": "python",
   "pygments_lexer": "ipython3",
   "version": "3.11.3"
  }
 },
 "nbformat": 4,
 "nbformat_minor": 5
}
